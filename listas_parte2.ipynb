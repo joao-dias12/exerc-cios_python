{
 "cells": [
  {
   "cell_type": "markdown",
   "metadata": {},
   "source": [
    "Listas Parte 2\n",
    "\n",
    "galera = list()\n",
    "dado = list()\n",
    "\n",
    "for c in range (0,3):\n",
    "    dado.append(str(input('Nome: )))\n",
    "    dado.append(int(input('Idade: )))\n",
    "    galera.appende(dado[:]#cópia)\n",
    "    dado.clear()"
   ]
  },
  {
   "cell_type": "code",
   "execution_count": null,
   "metadata": {},
   "outputs": [],
   "source": []
  }
 ],
 "metadata": {
  "kernelspec": {
   "display_name": "Python 3.10.6 64-bit",
   "language": "python",
   "name": "python3"
  },
  "language_info": {
   "name": "python",
   "version": "3.10.6"
  },
  "orig_nbformat": 4,
  "vscode": {
   "interpreter": {
    "hash": "369f2c481f4da34e4445cda3fffd2e751bd1c4d706f27375911949ba6bb62e1c"
   }
  }
 },
 "nbformat": 4,
 "nbformat_minor": 2
}
