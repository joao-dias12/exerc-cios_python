{
 "cells": [
  {
   "cell_type": "markdown",
   "metadata": {},
   "source": [
    "Enunciado: Crie um programa onde o usuário possa digitar valores numéricos e cadastre-os em uma lista. Caso o número já exista lá dentro, ele não será adicionado. No final, serão exibidos todos os valores únicos digitados em ordem crescente."
   ]
  },
  {
   "cell_type": "code",
   "execution_count": 15,
   "metadata": {},
   "outputs": [
    {
     "name": "stdout",
     "output_type": "stream",
     "text": [
      "Você acabou de adicionar o número 1 \n",
      "Você acabou de adicionar o número 3 \n",
      "Você acabou de adicionar o número 2 \n",
      "Você acabou de adicionar o número 8 \n",
      "Você acabou de adicionar o número 7 \n",
      "Você acabou de adicionar o número 9 \n",
      "\n",
      "A lista final foi: \n",
      "[1, 2, 3, 7, 8, 9]\n",
      " Você digitou 2 números pares e 4 números impares\n"
     ]
    }
   ],
   "source": [
    "list_numb = []\n",
    "par = impar = 0\n",
    "answer = 'S'\n",
    "while answer == 'S':\n",
    "    numb_added = int(input('Digite um valor: '))\n",
    "    \n",
    "    if numb_added not in list_numb:\n",
    "        list_numb.append(numb_added)\n",
    "        if numb_added % 2 == 0:\n",
    "            par += 1\n",
    "        else:\n",
    "            impar +=1\n",
    "        print(f'Você acabou de adicionar o número {numb_added} ')\n",
    "        answer = str(input('Quer continuar ? [S/N]')).upper()\n",
    "    else:\n",
    "        print(f'Esse número ja está na lista ')\n",
    "        answer = 'N'\n",
    "    \n",
    "list_numb.sort()\n",
    "\n",
    "print(f\"\"\"\n",
    "A lista final foi: \n",
    "{list_numb}\"\"\")\n",
    "\n",
    "print(f' Você digitou {par} números pares e {impar} números impares')\n"
   ]
  }
 ],
 "metadata": {
  "kernelspec": {
   "display_name": "Python 3.10.6 64-bit",
   "language": "python",
   "name": "python3"
  },
  "language_info": {
   "codemirror_mode": {
    "name": "ipython",
    "version": 3
   },
   "file_extension": ".py",
   "mimetype": "text/x-python",
   "name": "python",
   "nbconvert_exporter": "python",
   "pygments_lexer": "ipython3",
   "version": "3.10.6"
  },
  "orig_nbformat": 4,
  "vscode": {
   "interpreter": {
    "hash": "369f2c481f4da34e4445cda3fffd2e751bd1c4d706f27375911949ba6bb62e1c"
   }
  }
 },
 "nbformat": 4,
 "nbformat_minor": 2
}
