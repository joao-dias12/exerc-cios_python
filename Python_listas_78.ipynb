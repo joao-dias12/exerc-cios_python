{
 "cells": [
  {
   "cell_type": "markdown",
   "metadata": {},
   "source": [
    "lista.append() - Adicionar Item novo novo a lista\n",
    "lista.insert(0,'banana') - Adicionar item 'banana' no indice '0'\n",
    "del lista[3] - apagar item de indice 3\n",
    "lista.pop(3) - a mesma coisa que o anterior\n",
    "lista.remove('banana') - remove o valor banana e refaz os índices.\n",
    "lista.pop() - Elimina o ultimo elemento\n",
    "\n",
    "if 'banana' in lanche:\n",
    "    lista.remove('banana') - Removendo item caso ele esteja na lista\n",
    "\n",
    "\n",
    "Criando lista usando range => \n",
    "\n",
    "lista_de_num = list(range(4,11))- lista com numeros de 4 a 10\n",
    "\n",
    "lista.sort() - Ordena os valores - sort(reverse=True) ordena na ordem inversa.\n",
    "\n"
   ]
  },
  {
   "cell_type": "code",
   "execution_count": 7,
   "metadata": {},
   "outputs": [
    {
     "name": "stdout",
     "output_type": "stream",
     "text": [
      "[2, 5, 7, 8]\n",
      "[2, 5, 7, 8, 10]\n",
      "[10, 8, 7, 5, 2]\n",
      "[5, 18, 10, 7, 16, 17, 2, 17, 5, 14]\n"
     ]
    }
   ],
   "source": [
    "from random import randint\n",
    "lista_num = [2,5,7,8]\n",
    "print(lista_num)\n",
    "#Criando Lista\n",
    "\n",
    "lista_num.append(10)\n",
    "print(lista_num)\n",
    "#Adicionando Item\n",
    "\n",
    "lista_num.sort(reverse=True)\n",
    "print(lista_num)\n",
    "#Ordenando acontrário\n",
    "\n",
    "lista_random = []\n",
    "\n",
    "for v in range(0,10):\n",
    "    lista_random.append(randint(1,20))\n",
    "    if lista_random[v] == 3:\n",
    "        print('Chegamos ao valor 3')\n",
    "\n",
    "print(lista_random)\n"
   ]
  },
  {
   "cell_type": "markdown",
   "metadata": {},
   "source": [
    "Exemplo de como pegar os Valores e os indices de uma lista"
   ]
  },
  {
   "cell_type": "code",
   "execution_count": 8,
   "metadata": {},
   "outputs": [
    {
     "name": "stdout",
     "output_type": "stream",
     "text": [
      "Na posição 0 encontrei o valor 3...\n",
      "Na posição 1 encontrei o valor 2...\n",
      "Na posição 2 encontrei o valor 1...\n"
     ]
    }
   ],
   "source": [
    "valores = [3,2,1]\n",
    "for c,v in enumerate(valores):\n",
    "    print(f'Na posição {c} encontrei o valor {v}...')"
   ]
  },
  {
   "cell_type": "markdown",
   "metadata": {},
   "source": [
    "Exercici , Programa numérico que leia 5 valores diferentes e coloco em uma lista"
   ]
  },
  {
   "cell_type": "code",
   "execution_count": 15,
   "metadata": {},
   "outputs": [
    {
     "name": "stdout",
     "output_type": "stream",
     "text": [
      "=-=-=-=-=-=-=-=-=-=-=-=-=-=-=-=-=-=-=-=-=-=-=-=-=-=-=-=-=-=-\n",
      "[9, 2, 9, 2, 3]\n",
      "=-=-=-=-=-=-=-=-=-=-=-=-=-=-=-=-=-=-=-=-=-=-=-=-=-=-=-=-=-=-\n",
      "O maior valor foi 9 nas posições1..3..\n",
      "O menor valor foi 2 e sua posição foi 2ª2..4.."
     ]
    }
   ],
   "source": [
    "from itertools import count\n",
    "from collections import Counter\n",
    "\n",
    "c = Counter()\n",
    "\n",
    "\n",
    "lista_valores = []\n",
    "maiores_valores = []\n",
    "mai = 0\n",
    "men = 0\n",
    "for i in range(0,5):\n",
    "    valor_inserido = int(input(f\"Insira um valor na posição :{i} \"))\n",
    "    lista_valores.append(valor_inserido)\n",
    "    if i == 0:\n",
    "        mai = men = lista_valores[i]\n",
    "    else:\n",
    "        if lista_valores[i] > mai:\n",
    "            mai = lista_valores[i]            \n",
    "        if lista_valores[i] < men:\n",
    "            men = lista_valores [i]\n",
    "print('=-'*30)\n",
    "print(lista_valores)\n",
    "print('=-'*30)\n",
    "print(f\"\"\"O maior valor foi {mai} nas posições\"\"\" ,end='')\n",
    "for position,value in enumerate(lista_valores):\n",
    "    if value == mai:\n",
    "        print(f'{position+1}ª..',end='')\n",
    "print()\n",
    "\n",
    "print(f\"\"\"O menor valor foi {men} e nas posições\"\"\", end='')\n",
    "\n",
    "for position,value in enumerate(lista_valores):\n",
    "    if value == men:\n",
    "        print(f'{position+1}ª..',end='')\n",
    "\n"
   ]
  },
  {
   "cell_type": "code",
   "execution_count": null,
   "metadata": {},
   "outputs": [],
   "source": []
  }
 ],
 "metadata": {
  "kernelspec": {
   "display_name": "Python 3.10.6 64-bit",
   "language": "python",
   "name": "python3"
  },
  "language_info": {
   "codemirror_mode": {
    "name": "ipython",
    "version": 3
   },
   "file_extension": ".py",
   "mimetype": "text/x-python",
   "name": "python",
   "nbconvert_exporter": "python",
   "pygments_lexer": "ipython3",
   "version": "3.10.6"
  },
  "orig_nbformat": 4,
  "vscode": {
   "interpreter": {
    "hash": "369f2c481f4da34e4445cda3fffd2e751bd1c4d706f27375911949ba6bb62e1c"
   }
  }
 },
 "nbformat": 4,
 "nbformat_minor": 2
}
