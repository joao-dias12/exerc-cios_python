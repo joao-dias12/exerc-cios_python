{
 "cells": [
  {
   "cell_type": "code",
   "execution_count": 8,
   "metadata": {},
   "outputs": [
    {
     "name": "stdout",
     "output_type": "stream",
     "text": [
      "Boa tarde João, Empréstimo Aprovado\n"
     ]
    }
   ],
   "source": [
    "nome = str(input('Qual o seu nome?'))\n",
    "\n",
    "valordacasa = int(input('Qual o valor da casa?'))\n",
    "salario = int(input('Qual o seu salário?'))\n",
    "numdeparcelas = int(input('Quantas parcelas desaja pagar?'))\n",
    "minimo = salario**0.3\n",
    "\n",
    "if valordacasa/numdeparcelas > salario**0.3:\n",
    "    print(f'Boa tarde {nome}, Perdão mas o seu empréstimo foi negado')\n",
    "else:\n",
    "    print(f'Boa tarde {nome}, Empréstimo Aprovado')\n",
    "\n",
    "##print(f'Seu salário é de {salario} e sua parcela é de {valordacasa/numdeparcelas} e o 30% do seu salário é {salario**0.3}')    "
   ]
  },
  {
   "cell_type": "markdown",
   "metadata": {},
   "source": [
    "Estudando Python"
   ]
  },
  {
   "cell_type": "code",
   "execution_count": 1,
   "metadata": {},
   "outputs": [
    {
     "name": "stdout",
     "output_type": "stream",
     "text": [
      "('Corinthians', 'Flamengo', 'Palmeiras', 'Vasco', 'Santos', 'Atletico', 'Fluminnense', 'Botafogo', 'Coritiba', 'Chapecoense', 'Londrina')\n",
      "os 5 primeiros times  são: ('Corinthians', 'Flamengo', 'Palmeiras', 'Vasco', 'Santos')\n",
      "os 5 últimos times  são: ('Fluminnense', 'Botafogo', 'Coritiba', 'Chapecoense', 'Londrina')\n",
      "Os times  em ordem alfabética são : ['Atletico', 'Botafogo', 'Chapecoense', 'Corinthians', 'Coritiba', 'Flamengo', 'Fluminnense', 'Londrina', 'Palmeiras', 'Santos', 'Vasco']\n",
      "a posição da chapecoense é 10ª\n"
     ]
    }
   ],
   "source": [
    "#Estudando Tuplas \n",
    "times = ('Corinthians','Flamengo',\"Palmeiras\", 'Vasco', 'Santos', 'Atletico', 'Fluminnense', 'Botafogo', \"Coritiba\", \"Chapecoense\", \"Londrina\")\n",
    "print(times)\n",
    "\n",
    "print(f\"os 5 primeiros times  são: {times[:5]}\")\n",
    "print(f\"os 5 últimos times  são: {times[-5:]}\")\n",
    "print(f'Os times  em ordem alfabética são : {sorted(times)}')\n",
    "print(f\"a posição da chapecoense é {times.index('Chapecoense')+1}ª\")\n"
   ]
  },
  {
   "cell_type": "markdown",
   "metadata": {},
   "source": [
    "Sorteio de Números"
   ]
  },
  {
   "cell_type": "code",
   "execution_count": 7,
   "metadata": {},
   "outputs": [
    {
     "name": "stdout",
     "output_type": "stream",
     "text": [
      "A lista é  (3, 4, 4, 1, 6)\n",
      "O maior número é 6\n",
      " O  menor número da lista é 1\n"
     ]
    }
   ],
   "source": [
    "from random import randint\n",
    "nums_sorteio = (randint(1,10),randint(1,10),randint(1,10),randint(1,10),randint(1,10))\n",
    "\n",
    "print(f\"A lista é  {nums_sorteio}\")\n",
    "print(f\"O maior número é {max(nums_sorteio)}\")\n",
    "print(f\" O  menor número da lista é {min(nums_sorteio)}\")\n",
    "\n",
    "\n"
   ]
  },
  {
   "cell_type": "markdown",
   "metadata": {},
   "source": [
    "Pegando 4 valores do usuário e digitando informções sobre esse números. Quanas vezes eles aparecem , etc."
   ]
  },
  {
   "cell_type": "code",
   "execution_count": 1,
   "metadata": {},
   "outputs": [
    {
     "name": "stdout",
     "output_type": "stream",
     "text": [
      "Você digitou os números: (2, 9, 9, 3)\n",
      "O número 9 apareceu 2 vezes \n"
     ]
    }
   ],
   "source": [
    "lista_num = (int(input(\"Digite um número: \")), \n",
    "int(input(\"Digite um número: \")), \n",
    "int(input(\"Digite um número: \")), \n",
    "int(input(\"Digite um número: \")))\n",
    "\n",
    "print(f\"Você digitou os números: {lista_num}\")\n",
    "print(f\"O número 9 apareceu {lista_num.count(9)} vezes \")\n",
    "    "
   ]
  },
  {
   "cell_type": "code",
   "execution_count": null,
   "metadata": {},
   "outputs": [],
   "source": []
  }
 ],
 "metadata": {
  "kernelspec": {
   "display_name": "Python 3.10.5 64-bit (microsoft store)",
   "language": "python",
   "name": "python3"
  },
  "language_info": {
   "codemirror_mode": {
    "name": "ipython",
    "version": 3
   },
   "file_extension": ".py",
   "mimetype": "text/x-python",
   "name": "python",
   "nbconvert_exporter": "python",
   "pygments_lexer": "ipython3",
   "version": "3.10.7"
  },
  "orig_nbformat": 4,
  "vscode": {
   "interpreter": {
    "hash": "c0c8c91c1fc7e575323dbc74ea660590b67cb72ff4a6454ff82c8b43aff70b44"
   }
  }
 },
 "nbformat": 4,
 "nbformat_minor": 2
}
