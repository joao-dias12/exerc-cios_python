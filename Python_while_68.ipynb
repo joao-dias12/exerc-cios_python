{
 "cells": [
  {
   "cell_type": "markdown",
   "metadata": {},
   "source": [
    "Treinamento de While"
   ]
  },
  {
   "cell_type": "markdown",
   "metadata": {},
   "source": [
    "While True:\n",
    "If n != 3:\n",
    "Break"
   ]
  },
  {
   "cell_type": "markdown",
   "metadata": {},
   "source": [
    "Exercício da Tabuada"
   ]
  },
  {
   "cell_type": "markdown",
   "metadata": {},
   "source": []
  },
  {
   "cell_type": "code",
   "execution_count": null,
   "metadata": {},
   "outputs": [],
   "source": [
    "while True:\n",
    "    numb_choosed = int(input('Quer ver a tabuada de qual valor ?'))\n",
    "    if numb_choosed < 0:\n",
    "        print('Programa Encerrado')\n",
    "        break\n",
    "    print('--'*20)\n",
    "    for i in range(0,10):\n",
    "        \n",
    "        print(f'{numb_choosed} x {i+1} = {numb_choosed * (i+1)}')\n",
    "    print('--'*20)\n",
    "    \n",
    "    "
   ]
  },
  {
   "cell_type": "markdown",
   "metadata": {},
   "source": [
    "Jogo do Par ou impar"
   ]
  },
  {
   "cell_type": "code",
   "execution_count": 14,
   "metadata": {},
   "outputs": [
    {
     "name": "stdout",
     "output_type": "stream",
     "text": [
      "=-=-=-=-=-=-=-=-=-=-=-=-=-=-=-=-=-=-=-=-\n",
      "VAMOS JOGAR PAR OU IMPAR\n",
      "=-=-=-=-=-=-=-=-=-=-=-=-=-=-=-=-=-=-=-=-\n",
      "=-=-=-=-=-=-=-=-=-=-=-=-=-=-=-=-=-=-=-=-\n",
      "Você escolheu 1 e a maquina escolheu 1. \n",
      "Como você quer I....\n",
      "VOCÊ PERDEU. GAME OVER\n",
      "=-=-=-=-=-=-=-=-=-=-=-=-=-=-=-=-=-=-=-=-\n",
      "Você teve um total de 0 vitórias.\n"
     ]
    }
   ],
   "source": [
    "from random import randint\n",
    "\n",
    "numb_of_vict = 0\n",
    "\n",
    "print('=-'*20)\n",
    "print('VAMOS JOGAR PAR OU IMPAR')\n",
    "print('=-'*20)\n",
    "\n",
    "while True:\n",
    "    #EScolha do número e definir se quer par ou impar\n",
    "    numb_choosed_by_user = int(input('Qual valor você escolhe?'))\n",
    "    numb_choosed_by_pc = randint(1,3)\n",
    "    \n",
    "    par_or_impar = str(input('Você quer par ou impar? [P/I]')).upper()\n",
    "    \n",
    "    if par_or_impar == 'P' and (numb_choosed_by_user + numb_choosed_by_pc ) % 2 == 0 or par_or_impar == 'I' and (numb_choosed + randint(1,3)) % 2 != 0:\n",
    "        print('=-'*20)\n",
    "        print(f\"\"\"Você escolheu {numb_choosed_by_user} e a maquina escolheu {numb_choosed_by_pc}. \n",
    "Como você quer {par_or_impar}  Você Venceu essa rodada\"\"\")\n",
    "        #Contando número de vitórias\n",
    "        numb_of_vict += 1\n",
    "    else:\n",
    "        print('=-'*20)\n",
    "        print(f\"\"\"Você escolheu {numb_choosed_by_user} e a maquina escolheu {numb_choosed_by_pc}. \n",
    "Como você quer {par_or_impar}....\"\"\")\n",
    "        print('VOCÊ PERDEU. GAME OVER')\n",
    "        break\n",
    "\n",
    "\n",
    "print('=-'*20)\n",
    "print(f'Você teve um total de {numb_of_vict} vitórias.')\n",
    "\n",
    "\n",
    "    \n",
    "\n",
    "\n",
    "\n",
    "\n"
   ]
  }
 ],
 "metadata": {
  "kernelspec": {
   "display_name": "Python 3.10.6 64-bit",
   "language": "python",
   "name": "python3"
  },
  "language_info": {
   "codemirror_mode": {
    "name": "ipython",
    "version": 3
   },
   "file_extension": ".py",
   "mimetype": "text/x-python",
   "name": "python",
   "nbconvert_exporter": "python",
   "pygments_lexer": "ipython3",
   "version": "3.10.6"
  },
  "orig_nbformat": 4,
  "vscode": {
   "interpreter": {
    "hash": "369f2c481f4da34e4445cda3fffd2e751bd1c4d706f27375911949ba6bb62e1c"
   }
  }
 },
 "nbformat": 4,
 "nbformat_minor": 2
}
